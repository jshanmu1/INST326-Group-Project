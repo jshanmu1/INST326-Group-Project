{
  "cells": [
    {
      "cell_type": "code",
      "execution_count": null,
      "metadata": {
        "id": "HLKG_6a9TM5m"
      },
      "outputs": [],
      "source": [
        "#clean reviews\n",
        "def clean_review(review):\n",
        "    \"\"\" cleans a list of movie reviews by removing missing data and duplicates, and reviews that are not specific\n",
        "\n",
        "This function iterates through the provided list of reviews and performs\n",
        "    two main cleaning operations:\n",
        "    1. Removes any review entries that are considered incomplete (e.g., None, \"\", 0, or empty lists/dicts).\n",
        "    2. Removes duplicate review strings, keeping the first occurrence.\n",
        "\n",
        "Args:\n",
        "reviews_list(list): List of raw movie reviews / potential mixed data types\n",
        "\n",
        "Returns:\n",
        "list: A cleaned list of movie reviews.\n",
        "\n",
        "Raises:\n",
        "   TypeError: If the input 'reviews' is not a list.\n",
        "\n",
        "Example:\n",
        "movie_reviews = [\"Great movie!\", None, \"So-so.\", \"Great movie!\", \"\"]\n",
        "clean_review(movie_reviews)\n",
        "# Output: ['Great movie!', 'So-so.']\n",
        "\"\"\"\n",
        "    if not isinstance(review, list):\n",
        "        raise TypeError(\"Input must be a list.\")\n",
        "\n",
        "    cleaned_reviews = []\n",
        "    seen_reviews = set()\n",
        "\n",
        "    for rev in review:\n",
        "\n",
        "        if rev in (None, \"\", 0, [], {}):\n",
        "            continue\n",
        "\n",
        "\n",
        "        if isinstance(rev, str) and rev not in seen_reviews:\n",
        "            cleaned_reviews.append(rev)\n",
        "            seen_reviews.add(rev)\n",
        "\n",
        "    return cleaned_reviews"
      ]
    },
    {
      "cell_type": "code",
      "execution_count": null,
      "metadata": {
        "id": "5xTW_lC1w1j-"
      },
      "outputs": [],
      "source": [
        "#summarize_plot\n",
        "def summarize_plot(plot, max_length=100):\n",
        "    \"\"\"Summarizes a movie plot to a specified maximum length.\n",
        "\n",
        "    This function takes a movie plot as input and truncates it to the specified\n",
        "    maximum length, appending an ellipsis (\"...\") if the plot exceeds that length.\n",
        "\n",
        "    Args:\n",
        "        plot (str): The original movie plot.\n",
        "        max_length (int): The maximum length of the summarized plot. Default is 100 characters.\n",
        "\n",
        "    Returns:\n",
        "        str: The summarized movie plot.\n",
        "\n",
        "    Raises:\n",
        "        TypeError: If 'plot' is not a string or 'max_length' is not an integer.\n",
        "        ValueError: If 'max_length' is less than or equal to 0.\n",
        "\n",
        "    Example:\n",
        "        original_plot = \"In a world where technology has advanced beyond imagination, a young hero rises to challenge the status quo and bring balance to society.\"\n",
        "        summarized_plot = summarize_plot(original_plot, max_length=50)\n",
        "        print(summarized_plot)\n",
        "        # Output: \"In a world where technology has advanced beyo...\"\n",
        "    \"\"\"\n",
        "    if not isinstance(plot, str):\n",
        "        raise TypeError(\"Plot must be a string.\")\n",
        "    if not isinstance(max_length, int):\n",
        "        raise TypeError(\"Max length must be an integer.\")\n",
        "    if max_length <= 0:\n",
        "        raise ValueError(\"Max length must be greater than 0.\")\n",
        "\n",
        "    if len(plot) > max_length:\n",
        "        return plot[:max_length - 3] + \"...\"\n",
        "    return plot"
      ]
    },
    {
      "cell_type": "code",
      "execution_count": null,
      "metadata": {
        "id": "FTin4Q0Nw1j-"
      },
      "outputs": [],
      "source": [
        "#average_rating\n",
        "def average_rating(ratings):\n",
        "    \"\"\"Calculates the average rating from a list of ratings.\n",
        "\n",
        "    This function takes a list of numerical ratings and computes the average.\n",
        "    It ignores any non-numeric values in the list.\n",
        "\n",
        "    Args:\n",
        "        ratings (list): A list of numerical ratings (int or float).\n",
        "\n",
        "    Returns:\n",
        "        float: The average rating, or 0 if there are no valid ratings.\n",
        "\n",
        "    Raises:\n",
        "        TypeError: If 'ratings' is not a list.\n",
        "\n",
        "    Example:\n",
        "        movie_ratings = [4.5, 3.0, 5.0, None, \"bad\", 4.0]\n",
        "        avg_rating = average_rating(movie_ratings)\n",
        "        print(avg_rating)\n",
        "        # Output: 4.125\n",
        "    \"\"\"\n",
        "    if not isinstance(ratings, list):\n",
        "        raise TypeError(\"Input must be a list.\")\n",
        "\n",
        "    total = 0\n",
        "    count = 0\n",
        "\n",
        "    for rating in ratings:\n",
        "        if isinstance(rating, (int, float)):\n",
        "            total += rating\n",
        "            count += 1\n",
        "\n",
        "    return total / count if count > 0 else 0"
      ]
    },
    {
      "cell_type": "code",
      "execution_count": null,
      "metadata": {
        "id": "HA5tTan7w1j_"
      },
      "outputs": [],
      "source": [
        "#is_positive\n",
        "def is_positive(review):\n",
        "    \"\"\"Determines if a movie review is positive based on the presence of positive keywords.\n",
        "\n",
        "    This function checks if the review contains any of the predefined positive keywords.\n",
        "    If any positive keyword is found, the review is considered positive.\n",
        "\n",
        "    Args:\n",
        "        review (str): The movie review text.\n",
        "        \"\"\"\n",
        "    positive_keywords = {\"good\", \"great\", \"excellent\", \"amazing\", \"fantastic\", \"love\", \"wonderful\", \"best\", \"awesome\", \"positive\"}\n",
        "\n",
        "    if not isinstance(review, str):\n",
        "        raise TypeError(\"Review must be a string.\")\n",
        "\n",
        "    review_lower = review.lower()\n",
        "\n",
        "    for keyword in positive_keywords:\n",
        "        if keyword in review_lower:\n",
        "            return True\n",
        "    return False"
      ]
    },
    {
      "cell_type": "code",
      "source": [
        "#load_movie_reviews\n",
        "def load_movie_reviews(filepath):\n",
        "    \"\"\"\n",
        "    Loads movie reviews from a CSV file.\n",
        "\n",
        "    Args:\n",
        "        filepath: The path to the CSV file.\n",
        "\n",
        "    Returns:\n",
        "        A list of rows from the CSV file, each row as a list [review, rating].\n",
        "    \"\"\"\n",
        "    reviews = []\n",
        "    with open(filepath, 'r') as file:\n",
        "        for line in file:\n",
        "            reviews.append(line.strip().split(','))\n",
        "    return reviews\n"
      ],
      "metadata": {
        "id": "8cwDxJ0vw9qs"
      },
      "execution_count": null,
      "outputs": []
    }
  ],
  "metadata": {
    "colab": {
      "provenance": []
    },
    "kernelspec": {
      "display_name": "Python 3",
      "name": "python3"
    },
    "language_info": {
      "name": "python"
    }
  },
  "nbformat": 4,
  "nbformat_minor": 0
}