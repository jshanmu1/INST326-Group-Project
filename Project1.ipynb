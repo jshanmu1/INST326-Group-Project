{
  "cells": [
    {
      "cell_type": "markdown",
      "metadata": {
        "colab_type": "text",
        "id": "view-in-github"
      },
      "source": [
        "<a href=\"https://colab.research.google.com/github/jshanmu1/INST326-Group-Project/blob/main/Project1.ipynb\" target=\"_parent\"><img src=\"https://colab.research.google.com/assets/colab-badge.svg\" alt=\"Open In Colab\"/></a>"
      ]
    },
    {
      "cell_type": "code",
      "execution_count": null,
      "metadata": {
        "id": "HLKG_6a9TM5m"
      },
      "outputs": [],
      "source": [
        "#clean reviews\n",
        "def clean_review(review):\n",
        "    \"\"\" cleans a list of movie reviews by removing missing data and duplicates, and reviews that are not specific\n",
        "\n",
        "This function iterates through the provided list of reviews and performs\n",
        "    two main cleaning operations:\n",
        "    1. Removes any review entries that are considered incomplete (e.g., None, \"\", 0, or empty lists/dicts).\n",
        "    2. Removes duplicate review strings, keeping the first occurrence.\n",
        "\n",
        "Args:\n",
        "reviews_list(list): List of raw movie reviews / potential mixed data types\n",
        "\n",
        "Returns:\n",
        "list: A cleaned list of movie reviews.\n",
        "\n",
        "Raises:\n",
        "   TypeError: If the input 'reviews' is not a list.\n",
        "\n",
        "Example:\n",
        "movie_reviews = [\"Great movie!\", None, \"So-so.\", \"Great movie!\", \"\"]\n",
        "clean_review(movie_reviews)\n",
        "# Output: ['Great movie!', 'So-so.']\n",
        "\"\"\""
      ]
    }
  ],
  "metadata": {
    "colab": {
      "include_colab_link": true,
      "provenance": []
    },
    "kernelspec": {
      "display_name": "Python 3",
      "name": "python3"
    },
    "language_info": {
      "name": "python"
    }
  },
  "nbformat": 4,
  "nbformat_minor": 0
}
